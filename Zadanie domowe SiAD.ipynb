{
 "cells": [
  {
   "cell_type": "markdown",
   "id": "d29165f9",
   "metadata": {
    "pycharm": {
     "name": "#%% md\n"
    }
   },
   "source": [
    "**Grupa I4.2**"
   ]
  },
  {
   "cell_type": "code",
   "execution_count": 15,
   "id": "f5977284",
   "metadata": {
    "pycharm": {
     "name": "#%%\n"
    },
    "vscode": {
     "languageId": "r"
    }
   },
   "outputs": [],
   "source": [
    "packages <- c(\"PairedData\")\n",
    "not_installed <- packages[!(packages %in% installed.packages()[ , \"Package\"])]\n",
    "if(length(not_installed)) install.packages(not_installed)\n",
    "invisible(lapply(packages, library, character.only = TRUE))"
   ]
  },
  {
   "cell_type": "markdown",
   "id": "f66727bd",
   "metadata": {
    "pycharm": {
     "name": "#%% md\n"
    }
   },
   "source": [
    "## Opis zbioru danych\n",
    "Analizowany przeze mnie zbiór danych *2022 Fuel Consumption Ratings* zawiera dane o samochodach oraz wskaźniki zużycia paliwa i szacunkową emisję dwutlenku węgla dla nowych modeli przeznaczonych do sprzedaży detalicznej w Kanadzie w 2022 r.\n",
    "Twórcą zbioru jest organizacja Natural Resources Canada (NRCan), a pochodzą one ze standardowych, kontrolowanych badań laboratoryjnych i procedur analitycznych przeprowadzanych przez producentów pojazdów. Zbiór zawiera 946 rekordów.\n",
    "\n",
    "Dane pochodzą z platformy Kaggle i są dostępne pod adresem:\n",
    "[https://www.kaggle.com/datasets/rinichristy/2022-fuel-consumption-ratings](https://www.kaggle.com/datasets/rinichristy/2022-fuel-consumption-ratings)\n",
    "\n",
    "W swojej pracy dokonam analizy zużycia paliwa w mieście, na autostradzie i w cyklu mieszanym, a następnie sprawdzę czy występuje korelacja między pojemnością silnika a spalaniem paliwa."
   ]
  },
  {
   "cell_type": "code",
   "execution_count": 16,
   "id": "b58504f3",
   "metadata": {
    "pycharm": {
     "name": "#%%\n"
    },
    "vscode": {
     "languageId": "r"
    }
   },
   "outputs": [],
   "source": [
    "Data <- read.csv(url(\"https://raw.githubusercontent.com/majsterkovic/siad/main/MY2022%20Fuel%20Consumption%20Ratings.csv\"), sep = \",\")\n",
    "\n",
    "fuel_consumption_highway <- Data$Fuel.Consumption.Hwy..L.100.km..\n",
    "fuel_consumption_city <- Data$Fuel.Consumption..City..L.100.km.\n",
    "fuel_consumption_combined <- Data$Fuel.Consumption.Comb..L.100.km..\n",
    "\n",
    "fuel_consumption <- data.frame(highway = fuel_consumption_highway, city = fuel_consumption_city, combined = fuel_consumption_combined)\n",
    "\n",
    "engine_size <- Data$Engine.Size.L."
   ]
  },
  {
   "cell_type": "code",
   "execution_count": 17,
   "id": "66319a11",
   "metadata": {
    "pycharm": {
     "name": "#%%\n"
    },
    "vscode": {
     "languageId": "r"
    }
   },
   "outputs": [],
   "source": [
    "central_moment <- function(dane, nth) {\n",
    "  mean((dane - mean(dane)) ^ nth)\n",
    "}\n",
    "\n",
    "var_population <- function(data) {\n",
    "  central_moment(data, 2)\n",
    "}\n",
    "\n",
    "sd_population <- function (data) {\n",
    "  sqrt(var_population(data))\n",
    "}\n",
    "\n",
    "kurtosis <- function(data) {\n",
    "  central_moment(data, 4) / sd_population(data) ^ 4\n",
    "}\n",
    "\n",
    "skewness <- function(data) {\n",
    "  central_moment(data, 3) / sd_population(data) ^ 3\n",
    "}\n",
    "\n",
    "showStatistics <- function(data, title, xtitle) {\n",
    "\n",
    "print(c(Srednia = mean(data),\n",
    "        Mediana = median(data),\n",
    "        Wariancja = var_population(data),\n",
    "        Odchylenie = sd_population(data),\n",
    "        Minimum = min(data),\n",
    "        Maksimum = max(data),\n",
    "        Kurtoza = kurtosis(data),\n",
    "        Skosnosc = skewness(data),\n",
    "        Kwantyl = quantile(data, c(0.25, 0.75))\n",
    "\n",
    "  ))\n",
    "\n",
    "  k <- 1 + 3.322 * log(length(data))\n",
    "  #k <- sqrt(length(data))\n",
    "  #k <- (max(data) - min(data)) / (2.64 * n^(1/3) * IQR(data))\n",
    "  #k <- 2 * IQR(data) / length(data)^(1/3)\n",
    "  hist(data, breaks = k, main = title, ylab = \"Częstość\", xlab = xtitle)\n",
    "\n",
    "\n",
    "  intervals <- cut(data, k)\n",
    "  table(intervals)\n",
    "}"
   ]
  },
  {
   "cell_type": "markdown",
   "id": "9fa64565",
   "metadata": {},
   "source": [
    "## Analiza eksploracyjna"
   ]
  },
  {
   "cell_type": "code",
   "execution_count": 4,
   "id": "c3768cd6",
   "metadata": {
    "pycharm": {
     "name": "#%%\n"
    },
    "vscode": {
     "languageId": "r"
    }
   },
   "outputs": [
    {
     "name": "stdout",
     "output_type": "stream",
     "text": [
      "    Srednia     Mediana   Wariancja  Odchylenie     Minimum    Maksimum \n",
      "  3.1987315   3.0000000   1.8881168   1.3740876   1.2000000   8.0000000 \n",
      "    Kurtoza    Skosnosc Kwantyl.25% Kwantyl.75% \n",
      "  3.0726967   0.9386136   2.0000000   3.8000000 \n"
     ]
    },
    {
     "data": {
      "text/plain": [
       "intervals\n",
       " (1.19,1.5]  (1.5,1.79] (1.79,2.09] (2.09,2.38] (2.38,2.68] (2.68,2.97] \n",
       "         18          55         219          26          93          40 \n",
       "(2.97,3.27] (3.27,3.57] (3.57,3.86] (3.86,4.16] (4.16,4.45] (4.45,4.75] \n",
       "        137          64          59          40          25           1 \n",
       "(4.75,5.04] (5.04,5.34] (5.34,5.63] (5.63,5.93] (5.93,6.23] (6.23,6.52] \n",
       "         32          60           2          15          37          12 \n",
       "(6.52,6.82] (6.82,7.11] (7.11,7.41]  (7.41,7.7]  (7.7,8.01] \n",
       "          8           0           0           0           3 "
      ]
     },
     "metadata": {},
     "output_type": "display_data"
    },
    {
     "data": {
      "image/png": "[encoded data removed]",
      "text/plain": [
       "Plot with title \"Histogram pojemności silnika\""
      ]
     },
     "metadata": {
      "image/png": {
       "height": 420,
       "width": 420
      }
     },
     "output_type": "display_data"
    }
   ],
   "source": [
    "showStatistics(data = engine_size, title = \"Histogram pojemności silnika\", xtitle = \"L\")"
   ]
  },
  {
   "cell_type": "markdown",
   "id": "62c7cd5d",
   "metadata": {
    "pycharm": {
     "name": "#%% md\n"
    }
   },
   "source": [
    "Wśród samochodów przeważają modele z silnikami o pojemności poniżej 3.0L. Wykres jest skośny prawostronnie."
   ]
  },
  {
   "cell_type": "code",
   "execution_count": 5,
   "id": "538cb571",
   "metadata": {
    "pycharm": {
     "name": "#%%\n"
    },
    "vscode": {
     "languageId": "r"
    }
   },
   "outputs": [
    {
     "name": "stdout",
     "output_type": "stream",
     "text": [
      "    Srednia     Mediana   Wariancja  Odchylenie     Minimum    Maksimum \n",
      "  9.3633192   9.2000000   5.2162761   2.2839168   3.9000000  20.9000000 \n",
      "    Kurtoza    Skosnosc Kwantyl.25% Kwantyl.75% \n",
      "  4.6138110   0.8075969   7.7000000  10.7000000 \n"
     ]
    },
    {
     "data": {
      "text/plain": [
       "intervals\n",
       "(3.88,4.64] (4.64,5.38] (5.38,6.12] (6.12,6.86]  (6.86,7.6]  (7.6,8.33] \n",
       "          5           8          24          75          96         142 \n",
       "(8.33,9.07] (9.07,9.81] (9.81,10.6] (10.6,11.3]   (11.3,12]   (12,12.8] \n",
       "        108         148          88          62          67          55 \n",
       "(12.8,13.5] (13.5,14.2]   (14.2,15]   (15,15.7] (15.7,16.5] (16.5,17.2] \n",
       "         32          18           6           2           4           2 \n",
       "(17.2,17.9] (17.9,18.7] (18.7,19.4] (19.4,20.2] (20.2,20.9] \n",
       "          0           0           0           2           2 "
      ]
     },
     "metadata": {},
     "output_type": "display_data"
    },
    {
     "data": {
      "image/png": "[encoded data removed]",
      "text/plain": [
       "Plot with title \"Histogram konsumpcji paliwa na autostradzie\""
      ]
     },
     "metadata": {
      "image/png": {
       "height": 420,
       "width": 420
      }
     },
     "output_type": "display_data"
    }
   ],
   "source": [
    "showStatistics(data = fuel_consumption$highway, title = \"Histogram konsumpcji paliwa na autostradzie\", xtitle = \"L/100 km\")"
   ]
  },
  {
   "cell_type": "code",
   "execution_count": 6,
   "id": "63ce284b",
   "metadata": {
    "pycharm": {
     "name": "#%%\n"
    },
    "vscode": {
     "languageId": "r"
    }
   },
   "outputs": [
    {
     "name": "stdout",
     "output_type": "stream",
     "text": [
      "    Srednia     Mediana   Wariancja  Odchylenie     Minimum    Maksimum \n",
      " 12.5064482  12.2000000  11.9040070   3.4502184   4.0000000  30.3000000 \n",
      "    Kurtoza    Skosnosc Kwantyl.25% Kwantyl.75% \n",
      "  5.0315720   0.7337936  10.2000000  14.7000000 \n"
     ]
    },
    {
     "data": {
      "text/plain": [
       "intervals\n",
       "(3.97,5.14] (5.14,6.29] (6.29,7.43] (7.43,8.57] (8.57,9.72] (9.72,10.9] \n",
       "         11          11          12          65          87         132 \n",
       "  (10.9,12]   (12,13.1] (13.1,14.3] (14.3,15.4] (15.4,16.6] (16.6,17.7] \n",
       "        132         146          83          80          80          48 \n",
       "(17.7,18.9]   (18.9,20]   (20,21.2] (21.2,22.3] (22.3,23.4] (23.4,24.6] \n",
       "         27          12           6           5           3           0 \n",
       "(24.6,25.7] (25.7,26.9]   (26.9,28]   (28,29.2] (29.2,30.3] \n",
       "          0           4           0           0           2 "
      ]
     },
     "metadata": {},
     "output_type": "display_data"
    },
    {
     "data": {
      "image/png": "[encoded data removed]",
      "text/plain": [
       "Plot with title \"Histogram konsumpcji paliwa w mieście\""
      ]
     },
     "metadata": {
      "image/png": {
       "height": 420,
       "width": 420
      }
     },
     "output_type": "display_data"
    }
   ],
   "source": [
    "showStatistics(data = fuel_consumption$city, title = \"Histogram konsumpcji paliwa w mieście\", xtitle = \"L/100 km\")"
   ]
  },
  {
   "cell_type": "code",
   "execution_count": 7,
   "id": "2df9baf5",
   "metadata": {
    "pycharm": {
     "name": "#%%\n"
    },
    "vscode": {
     "languageId": "r"
    }
   },
   "outputs": [
    {
     "name": "stdout",
     "output_type": "stream",
     "text": [
      "    Srednia     Mediana   Wariancja  Odchylenie     Minimum    Maksimum \n",
      " 11.0920719  10.8000000   8.2642183   2.8747554   4.0000000  26.1000000 \n",
      "    Kurtoza    Skosnosc Kwantyl.25% Kwantyl.75% \n",
      "  4.7649780   0.7205684   9.1000000  12.9000000 \n"
     ]
    },
    {
     "data": {
      "text/plain": [
       "intervals\n",
       "(3.98,4.96] (4.96,5.92] (5.92,6.88] (6.88,7.84]  (7.84,8.8]  (8.8,9.77] \n",
       "          9           8          20          74          90         129 \n",
       "(9.77,10.7] (10.7,11.7] (11.7,12.6] (12.6,13.6] (13.6,14.6] (14.6,15.5] \n",
       "        133         113         113          66          81          59 \n",
       "(15.5,16.5] (16.5,17.5] (17.5,18.4] (18.4,19.4] (19.4,20.3] (20.3,21.3] \n",
       "         24          11           3           2           3           1 \n",
       "(21.3,22.3] (22.3,23.2] (23.2,24.2] (24.2,25.1] (25.1,26.1] \n",
       "          5           0           0           0           2 "
      ]
     },
     "metadata": {},
     "output_type": "display_data"
    },
    {
     "data": {
      "image/png": "[encoded data removed]",
      "text/plain": [
       "Plot with title \"Histogram konsumpcji paliwa w cyklu mieszanym\""
      ]
     },
     "metadata": {
      "image/png": {
       "height": 420,
       "width": 420
      }
     },
     "output_type": "display_data"
    }
   ],
   "source": [
    "showStatistics(data = fuel_consumption$combined, title = \"Histogram konsumpcji paliwa w cyklu mieszanym\", xtitle = \"L/100 km\")"
   ]
  },
  {
   "cell_type": "markdown",
   "id": "45991ca6",
   "metadata": {},
   "source": [
    "Analizując powstałe statystyki można zauważyć, że największa wariancja występuje dla zużycia paliwa w mieście, a najmniejsza, na autostradzie. Można by więc zakładać, że spalanie podczas jazdy po mieście jest bardziej zróżnicowane przez niestałą pracę silnika. Na wszystkich trzech histogramach dominują wartości w granicach 8-12 l/100 km. Wykresy przypominają rozkład normalny, ale są prawoskośne."
   ]
  },
  {
   "cell_type": "markdown",
   "id": "f76e755c",
   "metadata": {},
   "source": [
    "## Testowanie hipotez\n",
    "\n",
    "Na podstawie dostępnych danych postanowiłem zbadać czy spalanie paliwa na autostradzie i w mieście jest zróżnicowane. Powszechnie mówi się, że zużycie paliwa w mieście jest większe. Sformułowane przez mnie hipotezy brzmią następująco:\n",
    "\n",
    "Hipoteza zerowa: $\\mu_m = \\mu_a \\Rightarrow  \\mu_m - \\mu_a = 0$\n",
    "\n",
    "Hipoteza alternatywna: $\\mu_m > \\mu_a \\Rightarrow  \\mu_m - \\mu_a > 0$\n",
    "\n",
    "Moje populacje są sparowane, ponieważ dane w parach dotyczą tego samego modelu samochodu. Jeśli interesuje mnie czy średnie pomiędzy populacjami są równe to tak naprawdę interesuje mnie czy ich różnica jest równa 0. Mog więc odjąć jeden wynik w parze od drugiego i traktować je jako nową populację, populację różnic wyników.\n",
    "\n",
    "Nowa populacja ma rozkład w przybliżeniu normalny, liczebność próby jest wystarczająca, wariancja jest znana, więc mogę wykonać prawostronny test Z."
   ]
  },
  {
   "cell_type": "code",
   "execution_count": 18,
   "id": "3219e507",
   "metadata": {
    "pycharm": {
     "name": "#%%\n"
    },
    "vscode": {
     "languageId": "r"
    }
   },
   "outputs": [
    {
     "data": {
      "image/png": "[encoded data removed]",
      "text/plain": [
       "Plot with title \"Histogram różnic między konsumpcją paliwa na autostradzie i w mieście\""
      ]
     },
     "metadata": {
      "image/png": {
       "height": 420,
       "width": 420
      }
     },
     "output_type": "display_data"
    }
   ],
   "source": [
    "fuel_consumption_diff <- fuel_consumption$city - fuel_consumption$highway\n",
    "hist(fuel_consumption_diff, breaks=\"FD\", main=\"Histogram różnic między konsumpcją paliwa na autostradzie i w mieście\", ylab=\"Częstość\", xlab=\"L/100 km\")"
   ]
  },
  {
   "cell_type": "markdown",
   "id": "fff9486d",
   "metadata": {},
   "source": [
    "Dla testu wybieram próbę o liczebności 100. Pary danych zostały zwizualizowane na poniższym wykresie."
   ]
  },
  {
   "cell_type": "code",
   "execution_count": 23,
   "id": "56a4b1ed",
   "metadata": {
    "pycharm": {
     "name": "#%%\n"
    },
    "vscode": {
     "languageId": "r"
    }
   },
   "outputs": [
    {
     "data": {
      "image/png": "[encoded data removed]",
      "text/plain": [
       "plot without title"
      ]
     },
     "metadata": {
      "image/png": {
       "height": 420,
       "width": 420
      }
     },
     "output_type": "display_data"
    }
   ],
   "source": [
    "index <- sample(1:nrow(fuel_consumption), 100, replace=F)\n",
    "fuel_consumption_city_sample <- fuel_consumption$city[index]\n",
    "fuel_consumption_highway_sample <- fuel_consumption$highway[index]\n",
    "\n",
    "pd <- paired(fuel_consumption_highway_sample, fuel_consumption_city_sample)\n",
    "plot(pd, type = \"profile\")"
   ]
  },
  {
   "cell_type": "code",
   "execution_count": 24,
   "id": "e0d161af",
   "metadata": {
    "pycharm": {
     "name": "#%%\n"
    },
    "vscode": {
     "languageId": "r"
    }
   },
   "outputs": [
    {
     "data": {
      "text/html": [
       "'Wartość testu Z: 54.269151. Zbior krytyczny: &lt;2.053749; inf). Należy odrzucić hipotezę zerową. P-value: 0.000000'"
      ],
      "text/latex": [
       "'Wartość testu Z: 54.269151. Zbior krytyczny: <2.053749; inf). Należy odrzucić hipotezę zerową. P-value: 0.000000'"
      ],
      "text/markdown": [
       "'Wartość testu Z: 54.269151. Zbior krytyczny: &lt;2.053749; inf). Należy odrzucić hipotezę zerową. P-value: 0.000000'"
      ],
      "text/plain": [
       "[1] \"Wartość testu Z: 54.269151. Zbior krytyczny: <2.053749; inf). Należy odrzucić hipotezę zerową. P-value: 0.000000\""
      ]
     },
     "metadata": {},
     "output_type": "display_data"
    }
   ],
   "source": [
    "z_test <-function(alpha, population, sample) {\n",
    "\n",
    "  mean_population <- mean(population)\n",
    "  var_population <- var_population(population)\n",
    "  mean_sample <- mean(sample)\n",
    "\n",
    "  z_crit <- qnorm(1-alpha)\n",
    "\n",
    "  Z <- (mean_sample - 0) / sqrt( var_population / length(population) )\n",
    "  p <- 1 - pnorm(Z)\n",
    "\n",
    "  if (Z < z_crit) {\n",
    "    sprintf(\"Wartosc testu Z: %f. Zbior krytyczny: <%f; inf). Nie ma dowodow na odrzucenie hipotezy zerowej. P-value: %f\", Z, z_crit, p)\n",
    "  } else {\n",
    "    sprintf(\"Wartość testu Z: %f. Zbior krytyczny: <%f; inf). Należy odrzucić hipotezę zerową. P-value: %f\", Z, z_crit, p)\n",
    "  }\n",
    "}\n",
    "fuel_consumption_diff_sample <-  fuel_consumption_city_sample - fuel_consumption_highway_sample\n",
    "alpha <- 0.02\n",
    "\n",
    "z_test(alpha, fuel_consumption_diff, fuel_consumption_diff_sample)"
   ]
  },
  {
   "cell_type": "markdown",
   "id": "b654ac85",
   "metadata": {
    "pycharm": {
     "name": "#%% md\n"
    }
   },
   "source": [
    "Wartość testu Z znalazła się w zbiorze krytycznym, więc należało odrzucić hipotezę zerową. P-value jest mniejsze niż 0.01, więc istnieje bardzo silna przesłanka przeciwko hipotezie zerowej. Poziom istotności statystycznej został obrany bardzo niewielki, więc prawdopodobieństwo odrzucenia \"prawdziwej hipotezy zerowej\" i popełnienia błędu pierwszego rodzaju było bardzo małe. Hipoteza była rzeczywiście prawdziwa, ponieważ spalanie w mieście jest średnio większe niż spalanie na autostradzie, więc nie został popełniony błąd pierwszego rodzaju."
   ]
  },
  {
   "cell_type": "markdown",
   "id": "5239f29a",
   "metadata": {},
   "source": [
    "Kolejną rzeczą, którą sprawdzę jest istnienie korelacji między pojemnością silnika a spalaniem w cyklu mieszanym."
   ]
  },
  {
   "cell_type": "code",
   "execution_count": 11,
   "id": "21213cf4",
   "metadata": {
    "pycharm": {
     "name": "#%%\n"
    },
    "vscode": {
     "languageId": "r"
    }
   },
   "outputs": [
    {
     "data": {
      "text/html": [
       "'Wspolczynnik korelacji: 0.818694'"
      ],
      "text/latex": [
       "'Wspolczynnik korelacji: 0.818694'"
      ],
      "text/markdown": [
       "'Wspolczynnik korelacji: 0.818694'"
      ],
      "text/plain": [
       "[1] \"Wspolczynnik korelacji: 0.818694\""
      ]
     },
     "metadata": {},
     "output_type": "display_data"
    }
   ],
   "source": [
    "n <- length(engine_size)\n",
    "dane <- data.frame(engine_size, fuel_consumption$combined)\n",
    "\n",
    "ef <- mean(fuel_consumption$combined)\n",
    "es <- mean(engine_size)\n",
    "sdf <- sd_population(fuel_consumption$combined)\n",
    "sds <- sd_population(engine_size)\n",
    "\n",
    "r  <- mean((fuel_consumption$combined - ef) * (engine_size - es)) / (sdf * sds)\n",
    "\n",
    "sprintf(\"Wspolczynnik korelacji: %f\", r)"
   ]
  },
  {
   "cell_type": "markdown",
   "id": "a18e7a2e",
   "metadata": {},
   "source": [
    "Mogę przetestować stastystycznie istotność współczynnika korelacji.\n",
    "\n",
    "$H_0$: $r = 0$\n",
    "\n",
    "$H_1$: $r \\neq 0$"
   ]
  },
  {
   "cell_type": "code",
   "execution_count": 12,
   "id": "d585e58e",
   "metadata": {
    "pycharm": {
     "name": "#%%\n"
    },
    "vscode": {
     "languageId": "r"
    }
   },
   "outputs": [
    {
     "data": {
      "text/html": [
       "'Wartość testu T: 43.804724. Należy odrzucić hipotezę zerową.'"
      ],
      "text/latex": [
       "'Wartość testu T: 43.804724. Należy odrzucić hipotezę zerową.'"
      ],
      "text/markdown": [
       "'Wartość testu T: 43.804724. Należy odrzucić hipotezę zerową.'"
      ],
      "text/plain": [
       "[1] \"Wartość testu T: 43.804724. Należy odrzucić hipotezę zerową.\""
      ]
     },
     "metadata": {},
     "output_type": "display_data"
    }
   ],
   "source": [
    "alpha <- 0.05\n",
    "T <- r / sqrt(1 - r^2) * sqrt(n - 2)\n",
    "p_value <- 2 * pt(T, lower.tail = F, df = n-2)\n",
    "if(p_value < alpha) {\n",
    "  sprintf(\"Wartość testu T: %f. Należy odrzucić hipotezę zerową.\", T)\n",
    "} else {\n",
    "  sprintf(\"Wartość testu T: %f. Nie należy odrzucić hipotezę zerową.\", T)\n",
    "}"
   ]
  },
  {
   "cell_type": "markdown",
   "id": "3e5b5b02",
   "metadata": {},
   "source": [
    "Współczynnik korelacji jest większy od zera, korelacja jest dodatnia, gdy rośnie pojemność silnika zwiększa się spalanie. Wartość na poziomie 0.82 wskazuje na dość silną zależność."
   ]
  },
  {
   "cell_type": "code",
   "execution_count": 13,
   "id": "bdf42fe2",
   "metadata": {
    "pycharm": {
     "name": "#%%\n"
    },
    "vscode": {
     "languageId": "r"
    }
   },
   "outputs": [
    {
     "data": {
      "text/plain": [
       "\n",
       "Call:\n",
       "lm(formula = fuel_consumption$combined ~ engine_size, data = dane)\n",
       "\n",
       "Residuals:\n",
       "    Min      1Q  Median      3Q     Max \n",
       "-4.9953 -1.0709 -0.0517  0.9579  6.8089 \n",
       "\n",
       "Coefficients:\n",
       "            Estimate Std. Error t value Pr(>|t|)    \n",
       "(Intercept)   5.6133     0.1361   41.24   <2e-16 ***\n",
       "engine_size   1.7128     0.0391   43.80   <2e-16 ***\n",
       "---\n",
       "Signif. codes:  0 '***' 0.001 '**' 0.01 '*' 0.05 '.' 0.1 ' ' 1\n",
       "\n",
       "Residual standard error: 1.653 on 944 degrees of freedom\n",
       "Multiple R-squared:  0.6703,\tAdjusted R-squared:  0.6699 \n",
       "F-statistic:  1919 on 1 and 944 DF,  p-value: < 2.2e-16\n"
      ]
     },
     "metadata": {},
     "output_type": "display_data"
    },
    {
     "data": {
      "image/png": "[encoded data removed]",
      "text/plain": [
       "Plot with title \"Regresja liniowa\""
      ]
     },
     "metadata": {
      "image/png": {
       "height": 420,
       "width": 420
      }
     },
     "output_type": "display_data"
    }
   ],
   "source": [
    "plot(fuel_consumption$combined ~ engine_size, xlab=\"Pojemność silnika [L]\", ylab=\"Zużycie paliwa [L/100 km]\", main=\"Regresja liniowa\")\n",
    "model <- lm(fuel_consumption$combined ~ engine_size, dane)\n",
    "summary(model)\n",
    "abline(model, col=\"green\")"
   ]
  },
  {
   "cell_type": "markdown",
   "id": "2f2932a8",
   "metadata": {
    "pycharm": {
     "name": "#%% md\n"
    }
   },
   "source": [
    "## Podsumowanie\n",
    "* Motywacją wyboru zbioru danych i testów była chęć zbadania, czy faktycznie istnieją powszechnie znane zależności i uda się je wykazać wykonując analizę statystyczną.\n",
    "* Wynikiem pierwszego testu jest bardzo duża wartośc statystyki testowej i bardzo małe p-value. Wnioskuję, że sprawdzana zależność była \"zbyt oczywista\" i nie było szans na jej obalenie.\n",
    "* Współczynnik korelacji pomiędzy pojemnością silnika a zużyciem paliwa okazał się wysoki i istotny statystycznie.\n",
    "* Dalszym krokiem mogłoby być zbadanie zależności pomiędzy innymi danymi w zbiorze, np. typem paliwa, marką samochodu, itp. Można by też próbować porównać dane ze zbiorem z innego roku.\n"
   ]
  }
 ],
 "metadata": {
  "kernelspec": {
   "display_name": "R",
   "language": "R",
   "name": "ir"
  },
  "language_info": {
   "codemirror_mode": "r",
   "file_extension": ".r",
   "mimetype": "text/x-r-source",
   "name": "R",
   "pygments_lexer": "r",
   "version": "4.1.2"
  }
 },
 "nbformat": 4,
 "nbformat_minor": 5
}
